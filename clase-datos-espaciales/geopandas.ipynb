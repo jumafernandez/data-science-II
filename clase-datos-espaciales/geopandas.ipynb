{
  "cells": [
    {
      "cell_type": "markdown",
      "metadata": {
        "id": "view-in-github",
        "colab_type": "text"
      },
      "source": [
        "<a href=\"https://colab.research.google.com/github/jumafernandez/data-science-II/blob/main/clase-datos-espaciales/geopandas.ipynb\" target=\"_parent\"><img src=\"https://colab.research.google.com/assets/colab-badge.svg\" alt=\"Open In Colab\"/></a>"
      ]
    },
    {
      "cell_type": "markdown",
      "metadata": {
        "id": "HFb3Qo1Akcs0"
      },
      "source": [
        "# Ejemplo de Lectura y Visualización de datos espaciales\n",
        "\n",
        "En este notebook:\n",
        "1. Instalamos GeoPandas (si no está instalado) y Folium.\n",
        "2. Leemos un archivo GeoJSON (vectorial), mostramos los datos y los graficamos: sin mapa base y con mapa base.\n",
        "3. Leemos un archivo ASC (raster), mostramos los datos y los graficamos: sin mapa base y con mapa base."
      ],
      "id": "HFb3Qo1Akcs0"
    },
    {
      "cell_type": "markdown",
      "source": [
        "### Instalación de librerías"
      ],
      "metadata": {
        "id": "TH2-HExarJsT"
      },
      "id": "TH2-HExarJsT"
    },
    {
      "cell_type": "code",
      "execution_count": 1,
      "metadata": {
        "colab": {
          "base_uri": "https://localhost:8080/"
        },
        "id": "hvQeIyKBkcs4",
        "outputId": "0cb8bb60-210a-4e0e-94ec-9d293240fc3f"
      },
      "outputs": [
        {
          "output_type": "stream",
          "name": "stdout",
          "text": [
            "Requirement already satisfied: folium in /usr/local/lib/python3.11/dist-packages (0.19.4)\n",
            "Requirement already satisfied: geopandas in /usr/local/lib/python3.11/dist-packages (1.0.1)\n",
            "Requirement already satisfied: branca>=0.6.0 in /usr/local/lib/python3.11/dist-packages (from folium) (0.8.1)\n",
            "Requirement already satisfied: jinja2>=2.9 in /usr/local/lib/python3.11/dist-packages (from folium) (3.1.5)\n",
            "Requirement already satisfied: numpy in /usr/local/lib/python3.11/dist-packages (from folium) (1.26.4)\n",
            "Requirement already satisfied: requests in /usr/local/lib/python3.11/dist-packages (from folium) (2.32.3)\n",
            "Requirement already satisfied: xyzservices in /usr/local/lib/python3.11/dist-packages (from folium) (2024.9.0)\n",
            "Requirement already satisfied: pyogrio>=0.7.2 in /usr/local/lib/python3.11/dist-packages (from geopandas) (0.10.0)\n",
            "Requirement already satisfied: packaging in /usr/local/lib/python3.11/dist-packages (from geopandas) (24.2)\n",
            "Requirement already satisfied: pandas>=1.4.0 in /usr/local/lib/python3.11/dist-packages (from geopandas) (2.2.2)\n",
            "Requirement already satisfied: pyproj>=3.3.0 in /usr/local/lib/python3.11/dist-packages (from geopandas) (3.7.0)\n",
            "Requirement already satisfied: shapely>=2.0.0 in /usr/local/lib/python3.11/dist-packages (from geopandas) (2.0.6)\n",
            "Requirement already satisfied: MarkupSafe>=2.0 in /usr/local/lib/python3.11/dist-packages (from jinja2>=2.9->folium) (3.0.2)\n",
            "Requirement already satisfied: python-dateutil>=2.8.2 in /usr/local/lib/python3.11/dist-packages (from pandas>=1.4.0->geopandas) (2.8.2)\n",
            "Requirement already satisfied: pytz>=2020.1 in /usr/local/lib/python3.11/dist-packages (from pandas>=1.4.0->geopandas) (2024.2)\n",
            "Requirement already satisfied: tzdata>=2022.7 in /usr/local/lib/python3.11/dist-packages (from pandas>=1.4.0->geopandas) (2024.2)\n",
            "Requirement already satisfied: certifi in /usr/local/lib/python3.11/dist-packages (from pyogrio>=0.7.2->geopandas) (2024.12.14)\n",
            "Requirement already satisfied: charset-normalizer<4,>=2 in /usr/local/lib/python3.11/dist-packages (from requests->folium) (3.4.1)\n",
            "Requirement already satisfied: idna<4,>=2.5 in /usr/local/lib/python3.11/dist-packages (from requests->folium) (3.10)\n",
            "Requirement already satisfied: urllib3<3,>=1.21.1 in /usr/local/lib/python3.11/dist-packages (from requests->folium) (2.3.0)\n",
            "Requirement already satisfied: six>=1.5 in /usr/local/lib/python3.11/dist-packages (from python-dateutil>=2.8.2->pandas>=1.4.0->geopandas) (1.17.0)\n"
          ]
        }
      ],
      "source": [
        "!pip install folium geopandas"
      ],
      "id": "hvQeIyKBkcs4"
    },
    {
      "cell_type": "code",
      "source": [
        "import geopandas as gpd\n",
        "import folium\n",
        "import matplotlib.pyplot as plt"
      ],
      "metadata": {
        "id": "D6A58ktCnwrI"
      },
      "id": "D6A58ktCnwrI",
      "execution_count": 2,
      "outputs": []
    },
    {
      "cell_type": "markdown",
      "source": [
        "Definición de la ruta para los archivos con los que vamos a trabajar:"
      ],
      "metadata": {
        "id": "dIKwj6prrN5b"
      },
      "id": "dIKwj6prrN5b"
    },
    {
      "cell_type": "code",
      "source": [
        "# Ajusta la ruta a tu archivo GeoJSON\n",
        "ruta_geojson = \"https://raw.githubusercontent.com/jumafernandez/data-science-II/refs/heads/main/clase-datos-espaciales/data/datos_vectoriales.geojson\"\n",
        "ruta_asc = \"https://raw.githubusercontent.com/jumafernandez/data-science-II/refs/heads/main/clase-datos-espaciales/data/triangulo_argentina.asc\""
      ],
      "metadata": {
        "id": "n6JDcxFCmeL1"
      },
      "id": "n6JDcxFCmeL1",
      "execution_count": 3,
      "outputs": []
    },
    {
      "cell_type": "markdown",
      "source": [
        "### Lectura y visualización con datos vectoriales (GeoJSON)\n",
        "\n",
        "Realizamos la lectura del GeoJSON:"
      ],
      "metadata": {
        "id": "vCdB7ze2rc4Y"
      },
      "id": "vCdB7ze2rc4Y"
    },
    {
      "cell_type": "code",
      "execution_count": 4,
      "metadata": {
        "colab": {
          "base_uri": "https://localhost:8080/",
          "height": 161
        },
        "id": "09f8Qifokcs5",
        "outputId": "c309da8f-b1db-46e9-bea9-e121656dc9e1"
      },
      "outputs": [
        {
          "output_type": "stream",
          "name": "stdout",
          "text": [
            "Contenido del GeoDataFrame (primeras filas):\n"
          ]
        },
        {
          "output_type": "execute_result",
          "data": {
            "text/plain": [
              "         name                                       geometry\n",
              "0  Estación 1                                  POINT (30 10)\n",
              "1  Estación 2                                  POINT (40 20)\n",
              "2   Parcela A  POLYGON ((30 10, 40 10, 40 20, 30 20, 30 10))"
            ],
            "text/html": [
              "\n",
              "  <div id=\"df-28fae461-296b-498f-966c-87246955d8e9\" class=\"colab-df-container\">\n",
              "    <div>\n",
              "<style scoped>\n",
              "    .dataframe tbody tr th:only-of-type {\n",
              "        vertical-align: middle;\n",
              "    }\n",
              "\n",
              "    .dataframe tbody tr th {\n",
              "        vertical-align: top;\n",
              "    }\n",
              "\n",
              "    .dataframe thead th {\n",
              "        text-align: right;\n",
              "    }\n",
              "</style>\n",
              "<table border=\"1\" class=\"dataframe\">\n",
              "  <thead>\n",
              "    <tr style=\"text-align: right;\">\n",
              "      <th></th>\n",
              "      <th>name</th>\n",
              "      <th>geometry</th>\n",
              "    </tr>\n",
              "  </thead>\n",
              "  <tbody>\n",
              "    <tr>\n",
              "      <th>0</th>\n",
              "      <td>Estación 1</td>\n",
              "      <td>POINT (30 10)</td>\n",
              "    </tr>\n",
              "    <tr>\n",
              "      <th>1</th>\n",
              "      <td>Estación 2</td>\n",
              "      <td>POINT (40 20)</td>\n",
              "    </tr>\n",
              "    <tr>\n",
              "      <th>2</th>\n",
              "      <td>Parcela A</td>\n",
              "      <td>POLYGON ((30 10, 40 10, 40 20, 30 20, 30 10))</td>\n",
              "    </tr>\n",
              "  </tbody>\n",
              "</table>\n",
              "</div>\n",
              "    <div class=\"colab-df-buttons\">\n",
              "\n",
              "  <div class=\"colab-df-container\">\n",
              "    <button class=\"colab-df-convert\" onclick=\"convertToInteractive('df-28fae461-296b-498f-966c-87246955d8e9')\"\n",
              "            title=\"Convert this dataframe to an interactive table.\"\n",
              "            style=\"display:none;\">\n",
              "\n",
              "  <svg xmlns=\"http://www.w3.org/2000/svg\" height=\"24px\" viewBox=\"0 -960 960 960\">\n",
              "    <path d=\"M120-120v-720h720v720H120Zm60-500h600v-160H180v160Zm220 220h160v-160H400v160Zm0 220h160v-160H400v160ZM180-400h160v-160H180v160Zm440 0h160v-160H620v160ZM180-180h160v-160H180v160Zm440 0h160v-160H620v160Z\"/>\n",
              "  </svg>\n",
              "    </button>\n",
              "\n",
              "  <style>\n",
              "    .colab-df-container {\n",
              "      display:flex;\n",
              "      gap: 12px;\n",
              "    }\n",
              "\n",
              "    .colab-df-convert {\n",
              "      background-color: #E8F0FE;\n",
              "      border: none;\n",
              "      border-radius: 50%;\n",
              "      cursor: pointer;\n",
              "      display: none;\n",
              "      fill: #1967D2;\n",
              "      height: 32px;\n",
              "      padding: 0 0 0 0;\n",
              "      width: 32px;\n",
              "    }\n",
              "\n",
              "    .colab-df-convert:hover {\n",
              "      background-color: #E2EBFA;\n",
              "      box-shadow: 0px 1px 2px rgba(60, 64, 67, 0.3), 0px 1px 3px 1px rgba(60, 64, 67, 0.15);\n",
              "      fill: #174EA6;\n",
              "    }\n",
              "\n",
              "    .colab-df-buttons div {\n",
              "      margin-bottom: 4px;\n",
              "    }\n",
              "\n",
              "    [theme=dark] .colab-df-convert {\n",
              "      background-color: #3B4455;\n",
              "      fill: #D2E3FC;\n",
              "    }\n",
              "\n",
              "    [theme=dark] .colab-df-convert:hover {\n",
              "      background-color: #434B5C;\n",
              "      box-shadow: 0px 1px 3px 1px rgba(0, 0, 0, 0.15);\n",
              "      filter: drop-shadow(0px 1px 2px rgba(0, 0, 0, 0.3));\n",
              "      fill: #FFFFFF;\n",
              "    }\n",
              "  </style>\n",
              "\n",
              "    <script>\n",
              "      const buttonEl =\n",
              "        document.querySelector('#df-28fae461-296b-498f-966c-87246955d8e9 button.colab-df-convert');\n",
              "      buttonEl.style.display =\n",
              "        google.colab.kernel.accessAllowed ? 'block' : 'none';\n",
              "\n",
              "      async function convertToInteractive(key) {\n",
              "        const element = document.querySelector('#df-28fae461-296b-498f-966c-87246955d8e9');\n",
              "        const dataTable =\n",
              "          await google.colab.kernel.invokeFunction('convertToInteractive',\n",
              "                                                    [key], {});\n",
              "        if (!dataTable) return;\n",
              "\n",
              "        const docLinkHtml = 'Like what you see? Visit the ' +\n",
              "          '<a target=\"_blank\" href=https://colab.research.google.com/notebooks/data_table.ipynb>data table notebook</a>'\n",
              "          + ' to learn more about interactive tables.';\n",
              "        element.innerHTML = '';\n",
              "        dataTable['output_type'] = 'display_data';\n",
              "        await google.colab.output.renderOutput(dataTable, element);\n",
              "        const docLink = document.createElement('div');\n",
              "        docLink.innerHTML = docLinkHtml;\n",
              "        element.appendChild(docLink);\n",
              "      }\n",
              "    </script>\n",
              "  </div>\n",
              "\n",
              "\n",
              "<div id=\"df-9ba97d87-a99a-468a-85c5-29d95e19d319\">\n",
              "  <button class=\"colab-df-quickchart\" onclick=\"quickchart('df-9ba97d87-a99a-468a-85c5-29d95e19d319')\"\n",
              "            title=\"Suggest charts\"\n",
              "            style=\"display:none;\">\n",
              "\n",
              "<svg xmlns=\"http://www.w3.org/2000/svg\" height=\"24px\"viewBox=\"0 0 24 24\"\n",
              "     width=\"24px\">\n",
              "    <g>\n",
              "        <path d=\"M19 3H5c-1.1 0-2 .9-2 2v14c0 1.1.9 2 2 2h14c1.1 0 2-.9 2-2V5c0-1.1-.9-2-2-2zM9 17H7v-7h2v7zm4 0h-2V7h2v10zm4 0h-2v-4h2v4z\"/>\n",
              "    </g>\n",
              "</svg>\n",
              "  </button>\n",
              "\n",
              "<style>\n",
              "  .colab-df-quickchart {\n",
              "      --bg-color: #E8F0FE;\n",
              "      --fill-color: #1967D2;\n",
              "      --hover-bg-color: #E2EBFA;\n",
              "      --hover-fill-color: #174EA6;\n",
              "      --disabled-fill-color: #AAA;\n",
              "      --disabled-bg-color: #DDD;\n",
              "  }\n",
              "\n",
              "  [theme=dark] .colab-df-quickchart {\n",
              "      --bg-color: #3B4455;\n",
              "      --fill-color: #D2E3FC;\n",
              "      --hover-bg-color: #434B5C;\n",
              "      --hover-fill-color: #FFFFFF;\n",
              "      --disabled-bg-color: #3B4455;\n",
              "      --disabled-fill-color: #666;\n",
              "  }\n",
              "\n",
              "  .colab-df-quickchart {\n",
              "    background-color: var(--bg-color);\n",
              "    border: none;\n",
              "    border-radius: 50%;\n",
              "    cursor: pointer;\n",
              "    display: none;\n",
              "    fill: var(--fill-color);\n",
              "    height: 32px;\n",
              "    padding: 0;\n",
              "    width: 32px;\n",
              "  }\n",
              "\n",
              "  .colab-df-quickchart:hover {\n",
              "    background-color: var(--hover-bg-color);\n",
              "    box-shadow: 0 1px 2px rgba(60, 64, 67, 0.3), 0 1px 3px 1px rgba(60, 64, 67, 0.15);\n",
              "    fill: var(--button-hover-fill-color);\n",
              "  }\n",
              "\n",
              "  .colab-df-quickchart-complete:disabled,\n",
              "  .colab-df-quickchart-complete:disabled:hover {\n",
              "    background-color: var(--disabled-bg-color);\n",
              "    fill: var(--disabled-fill-color);\n",
              "    box-shadow: none;\n",
              "  }\n",
              "\n",
              "  .colab-df-spinner {\n",
              "    border: 2px solid var(--fill-color);\n",
              "    border-color: transparent;\n",
              "    border-bottom-color: var(--fill-color);\n",
              "    animation:\n",
              "      spin 1s steps(1) infinite;\n",
              "  }\n",
              "\n",
              "  @keyframes spin {\n",
              "    0% {\n",
              "      border-color: transparent;\n",
              "      border-bottom-color: var(--fill-color);\n",
              "      border-left-color: var(--fill-color);\n",
              "    }\n",
              "    20% {\n",
              "      border-color: transparent;\n",
              "      border-left-color: var(--fill-color);\n",
              "      border-top-color: var(--fill-color);\n",
              "    }\n",
              "    30% {\n",
              "      border-color: transparent;\n",
              "      border-left-color: var(--fill-color);\n",
              "      border-top-color: var(--fill-color);\n",
              "      border-right-color: var(--fill-color);\n",
              "    }\n",
              "    40% {\n",
              "      border-color: transparent;\n",
              "      border-right-color: var(--fill-color);\n",
              "      border-top-color: var(--fill-color);\n",
              "    }\n",
              "    60% {\n",
              "      border-color: transparent;\n",
              "      border-right-color: var(--fill-color);\n",
              "    }\n",
              "    80% {\n",
              "      border-color: transparent;\n",
              "      border-right-color: var(--fill-color);\n",
              "      border-bottom-color: var(--fill-color);\n",
              "    }\n",
              "    90% {\n",
              "      border-color: transparent;\n",
              "      border-bottom-color: var(--fill-color);\n",
              "    }\n",
              "  }\n",
              "</style>\n",
              "\n",
              "  <script>\n",
              "    async function quickchart(key) {\n",
              "      const quickchartButtonEl =\n",
              "        document.querySelector('#' + key + ' button');\n",
              "      quickchartButtonEl.disabled = true;  // To prevent multiple clicks.\n",
              "      quickchartButtonEl.classList.add('colab-df-spinner');\n",
              "      try {\n",
              "        const charts = await google.colab.kernel.invokeFunction(\n",
              "            'suggestCharts', [key], {});\n",
              "      } catch (error) {\n",
              "        console.error('Error during call to suggestCharts:', error);\n",
              "      }\n",
              "      quickchartButtonEl.classList.remove('colab-df-spinner');\n",
              "      quickchartButtonEl.classList.add('colab-df-quickchart-complete');\n",
              "    }\n",
              "    (() => {\n",
              "      let quickchartButtonEl =\n",
              "        document.querySelector('#df-9ba97d87-a99a-468a-85c5-29d95e19d319 button');\n",
              "      quickchartButtonEl.style.display =\n",
              "        google.colab.kernel.accessAllowed ? 'block' : 'none';\n",
              "    })();\n",
              "  </script>\n",
              "</div>\n",
              "\n",
              "    </div>\n",
              "  </div>\n"
            ],
            "application/vnd.google.colaboratory.intrinsic+json": {
              "type": "dataframe",
              "variable_name": "gdf",
              "summary": "{\n  \"name\": \"gdf\",\n  \"rows\": 3,\n  \"fields\": [\n    {\n      \"column\": \"name\",\n      \"properties\": {\n        \"dtype\": \"string\",\n        \"num_unique_values\": 3,\n        \"samples\": [\n          \"Estaci\\u00f3n 1\",\n          \"Estaci\\u00f3n 2\",\n          \"Parcela A\"\n        ],\n        \"semantic_type\": \"\",\n        \"description\": \"\"\n      }\n    },\n    {\n      \"column\": \"geometry\",\n      \"properties\": {\n        \"dtype\": \"geometry\",\n        \"num_unique_values\": 3,\n        \"samples\": [\n          \"POINT (30 10)\",\n          \"POINT (40 20)\",\n          \"POLYGON ((30 10, 40 10, 40 20, 30 20, 30 10))\"\n        ],\n        \"semantic_type\": \"\",\n        \"description\": \"\"\n      }\n    }\n  ]\n}"
            }
          },
          "metadata": {},
          "execution_count": 4
        }
      ],
      "source": [
        "gdf = gpd.read_file(ruta_geojson)\n",
        "\n",
        "print(\"Contenido del GeoDataFrame (primeras filas):\")\n",
        "gdf.head()"
      ],
      "id": "09f8Qifokcs5"
    },
    {
      "cell_type": "markdown",
      "source": [
        "Lo graficamos sin mapa base:"
      ],
      "metadata": {
        "id": "yW2BsXq4rzxh"
      },
      "id": "yW2BsXq4rzxh"
    },
    {
      "cell_type": "code",
      "source": [
        "ax = gdf.plot(\n",
        "     figsize=(6, 6),       # Tamaño de la figura\n",
        "     alpha=0.5,            # Transparencia\n",
        "     edgecolor='black'     # Color de bordes en polígonos\n",
        "    )\n",
        "\n",
        "plt.title(\"Visualización de Datos GeoJSON\")\n",
        "plt.show()"
      ],
      "metadata": {
        "colab": {
          "base_uri": "https://localhost:8080/",
          "height": 545
        },
        "id": "kaaSUDCar1lq",
        "outputId": "8f20af71-01cb-40b5-c1a7-cc45ae6f4362"
      },
      "id": "kaaSUDCar1lq",
      "execution_count": 5,
      "outputs": [
        {
          "output_type": "display_data",
          "data": {
            "text/plain": [
              "<Figure size 600x600 with 1 Axes>"
            ],
            "image/png": "[encoded data removed]"
          },
          "metadata": {}
        }
      ]
    },
    {
      "cell_type": "markdown",
      "source": [
        "Ahora lo graficamos con mapa base:"
      ],
      "metadata": {
        "id": "IgeWhr22r3OC"
      },
      "id": "IgeWhr22r3OC"
    },
    {
      "cell_type": "code",
      "source": [
        "# Crear el mapa centrado en el promedio de las coordenadas del GeoDataFrame\n",
        "centro = [gdf.geometry.centroid.y.mean(), gdf.geometry.centroid.x.mean()]\n",
        "mapa = folium.Map(location=centro,\n",
        "                  zoom_start=2,\n",
        "                  width=\"50%\",      # Ancho del mapa (puede ser en píxeles o porcentaje)\n",
        "                  height=\"400px\")   # Alto del mapa (puede ser en píxeles o porcentaje))\n",
        "\n",
        "# Añadir las geometrías al mapa\n",
        "for _, row in gdf.iterrows():\n",
        "    folium.GeoJson(row.geometry).add_to(mapa)\n",
        "\n",
        "# Mostrar el mapa\n",
        "mapa\n"
      ],
      "metadata": {
        "colab": {
          "base_uri": "https://localhost:8080/",
          "height": 757
        },
        "id": "6jT7cxC3mZHe",
        "outputId": "bcfe305a-eda8-4e8f-9238-50214f060873"
      },
      "id": "6jT7cxC3mZHe",
      "execution_count": 6,
      "outputs": [
        {
          "output_type": "stream",
          "name": "stderr",
          "text": [
            "<ipython-input-6-f30c6b3e9b3d>:2: UserWarning: Geometry is in a geographic CRS. Results from 'centroid' are likely incorrect. Use 'GeoSeries.to_crs()' to re-project geometries to a projected CRS before this operation.\n",
            "\n",
            "  centro = [gdf.geometry.centroid.y.mean(), gdf.geometry.centroid.x.mean()]\n"
          ]
        },
        {
          "output_type": "execute_result",
          "data": {
            "text/plain": [
              "<folium.folium.Map at 0x78c88b873090>"
            ],
            "text/html": [
              "<div style=\"width:100%;\"><div style=\"position:relative;width:100%;height:0;padding-bottom:60%;\"><span style=\"color:#565656\">Make this Notebook Trusted to load map: File -> Trust Notebook</span><iframe srcdoc=\"&lt;!DOCTYPE html&gt;\n",
              "&lt;html&gt;\n",
              "&lt;head&gt;\n",
              "    \n",
              "    &lt;meta http-equiv=&quot;content-type&quot; content=&quot;text/html; charset=UTF-8&quot; /&gt;\n",
              "    \n",
              "        &lt;script&gt;\n",
              "            L_NO_TOUCH = false;\n",
              "            L_DISABLE_3D = false;\n",
              "        &lt;/script&gt;\n",
              "    \n",
              "    &lt;style&gt;html, body {width: 100%;height: 100%;margin: 0;padding: 0;}&lt;/style&gt;\n",
              "    &lt;style&gt;#map {position:absolute;top:0;bottom:0;right:0;left:0;}&lt;/style&gt;\n",
              "    &lt;script src=&quot;https://cdn.jsdelivr.net/npm/leaflet@1.9.3/dist/leaflet.js&quot;&gt;&lt;/script&gt;\n",
              "    &lt;script src=&quot;https://code.jquery.com/jquery-3.7.1.min.js&quot;&gt;&lt;/script&gt;\n",
              "    &lt;script src=&quot;https://cdn.jsdelivr.net/npm/bootstrap@5.2.2/dist/js/bootstrap.bundle.min.js&quot;&gt;&lt;/script&gt;\n",
              "    &lt;script src=&quot;https://cdnjs.cloudflare.com/ajax/libs/Leaflet.awesome-markers/2.0.2/leaflet.awesome-markers.js&quot;&gt;&lt;/script&gt;\n",
              "    &lt;link rel=&quot;stylesheet&quot; href=&quot;https://cdn.jsdelivr.net/npm/leaflet@1.9.3/dist/leaflet.css&quot;/&gt;\n",
              "    &lt;link rel=&quot;stylesheet&quot; href=&quot;https://cdn.jsdelivr.net/npm/bootstrap@5.2.2/dist/css/bootstrap.min.css&quot;/&gt;\n",
              "    &lt;link rel=&quot;stylesheet&quot; href=&quot;https://netdna.bootstrapcdn.com/bootstrap/3.0.0/css/bootstrap-glyphicons.css&quot;/&gt;\n",
              "    &lt;link rel=&quot;stylesheet&quot; href=&quot;https://cdn.jsdelivr.net/npm/@fortawesome/fontawesome-free@6.2.0/css/all.min.css&quot;/&gt;\n",
              "    &lt;link rel=&quot;stylesheet&quot; href=&quot;https://cdnjs.cloudflare.com/ajax/libs/Leaflet.awesome-markers/2.0.2/leaflet.awesome-markers.css&quot;/&gt;\n",
              "    &lt;link rel=&quot;stylesheet&quot; href=&quot;https://cdn.jsdelivr.net/gh/python-visualization/folium/folium/templates/leaflet.awesome.rotate.min.css&quot;/&gt;\n",
              "    \n",
              "            &lt;meta name=&quot;viewport&quot; content=&quot;width=device-width,\n",
              "                initial-scale=1.0, maximum-scale=1.0, user-scalable=no&quot; /&gt;\n",
              "            &lt;style&gt;\n",
              "                #map_d8a682c8fed0587172eaff80ac8f0a95 {\n",
              "                    position: relative;\n",
              "                    width: 50.0%;\n",
              "                    height: 400.0px;\n",
              "                    left: 0.0%;\n",
              "                    top: 0.0%;\n",
              "                }\n",
              "                .leaflet-container { font-size: 1rem; }\n",
              "            &lt;/style&gt;\n",
              "        \n",
              "&lt;/head&gt;\n",
              "&lt;body&gt;\n",
              "    \n",
              "    \n",
              "            &lt;div class=&quot;folium-map&quot; id=&quot;map_d8a682c8fed0587172eaff80ac8f0a95&quot; &gt;&lt;/div&gt;\n",
              "        \n",
              "&lt;/body&gt;\n",
              "&lt;script&gt;\n",
              "    \n",
              "    \n",
              "            var map_d8a682c8fed0587172eaff80ac8f0a95 = L.map(\n",
              "                &quot;map_d8a682c8fed0587172eaff80ac8f0a95&quot;,\n",
              "                {\n",
              "                    center: [15.0, 35.0],\n",
              "                    crs: L.CRS.EPSG3857,\n",
              "                    ...{\n",
              "  &quot;zoom&quot;: 2,\n",
              "  &quot;zoomControl&quot;: true,\n",
              "  &quot;preferCanvas&quot;: false,\n",
              "}\n",
              "\n",
              "                }\n",
              "            );\n",
              "\n",
              "            \n",
              "\n",
              "        \n",
              "    \n",
              "            var tile_layer_622b82c05f55ab700bb53588bef2601e = L.tileLayer(\n",
              "                &quot;https://tile.openstreetmap.org/{z}/{x}/{y}.png&quot;,\n",
              "                {\n",
              "  &quot;minZoom&quot;: 0,\n",
              "  &quot;maxZoom&quot;: 19,\n",
              "  &quot;maxNativeZoom&quot;: 19,\n",
              "  &quot;noWrap&quot;: false,\n",
              "  &quot;attribution&quot;: &quot;\\u0026copy; \\u003ca href=\\&quot;https://www.openstreetmap.org/copyright\\&quot;\\u003eOpenStreetMap\\u003c/a\\u003e contributors&quot;,\n",
              "  &quot;subdomains&quot;: &quot;abc&quot;,\n",
              "  &quot;detectRetina&quot;: false,\n",
              "  &quot;tms&quot;: false,\n",
              "  &quot;opacity&quot;: 1,\n",
              "}\n",
              "\n",
              "            );\n",
              "        \n",
              "    \n",
              "            tile_layer_622b82c05f55ab700bb53588bef2601e.addTo(map_d8a682c8fed0587172eaff80ac8f0a95);\n",
              "        \n",
              "    \n",
              "\n",
              "        function geo_json_fa4c97ec021bce7c4967fdeaabe33d4d_onEachFeature(feature, layer) {\n",
              "            layer.on({\n",
              "            });\n",
              "        };\n",
              "        var geo_json_fa4c97ec021bce7c4967fdeaabe33d4d = L.geoJson(null, {\n",
              "                onEachFeature: geo_json_fa4c97ec021bce7c4967fdeaabe33d4d_onEachFeature,\n",
              "            \n",
              "            ...{\n",
              "}\n",
              "        });\n",
              "\n",
              "        function geo_json_fa4c97ec021bce7c4967fdeaabe33d4d_add (data) {\n",
              "            geo_json_fa4c97ec021bce7c4967fdeaabe33d4d\n",
              "                .addData(data);\n",
              "        }\n",
              "            geo_json_fa4c97ec021bce7c4967fdeaabe33d4d_add({&quot;coordinates&quot;: [30.0, 10.0], &quot;type&quot;: &quot;Point&quot;});\n",
              "        geo_json_fa4c97ec021bce7c4967fdeaabe33d4d.setStyle(function(feature) {return feature.properties.style;});\n",
              "\n",
              "        \n",
              "    \n",
              "            geo_json_fa4c97ec021bce7c4967fdeaabe33d4d.addTo(map_d8a682c8fed0587172eaff80ac8f0a95);\n",
              "        \n",
              "    \n",
              "\n",
              "        function geo_json_311d5221dbe0b5da7bf59466e01815eb_onEachFeature(feature, layer) {\n",
              "            layer.on({\n",
              "            });\n",
              "        };\n",
              "        var geo_json_311d5221dbe0b5da7bf59466e01815eb = L.geoJson(null, {\n",
              "                onEachFeature: geo_json_311d5221dbe0b5da7bf59466e01815eb_onEachFeature,\n",
              "            \n",
              "            ...{\n",
              "}\n",
              "        });\n",
              "\n",
              "        function geo_json_311d5221dbe0b5da7bf59466e01815eb_add (data) {\n",
              "            geo_json_311d5221dbe0b5da7bf59466e01815eb\n",
              "                .addData(data);\n",
              "        }\n",
              "            geo_json_311d5221dbe0b5da7bf59466e01815eb_add({&quot;coordinates&quot;: [40.0, 20.0], &quot;type&quot;: &quot;Point&quot;});\n",
              "        geo_json_311d5221dbe0b5da7bf59466e01815eb.setStyle(function(feature) {return feature.properties.style;});\n",
              "\n",
              "        \n",
              "    \n",
              "            geo_json_311d5221dbe0b5da7bf59466e01815eb.addTo(map_d8a682c8fed0587172eaff80ac8f0a95);\n",
              "        \n",
              "    \n",
              "\n",
              "        function geo_json_56fb314b14b56ada6c556a734c84da26_onEachFeature(feature, layer) {\n",
              "            layer.on({\n",
              "            });\n",
              "        };\n",
              "        var geo_json_56fb314b14b56ada6c556a734c84da26 = L.geoJson(null, {\n",
              "                onEachFeature: geo_json_56fb314b14b56ada6c556a734c84da26_onEachFeature,\n",
              "            \n",
              "            ...{\n",
              "}\n",
              "        });\n",
              "\n",
              "        function geo_json_56fb314b14b56ada6c556a734c84da26_add (data) {\n",
              "            geo_json_56fb314b14b56ada6c556a734c84da26\n",
              "                .addData(data);\n",
              "        }\n",
              "            geo_json_56fb314b14b56ada6c556a734c84da26_add({&quot;coordinates&quot;: [[[30.0, 10.0], [40.0, 10.0], [40.0, 20.0], [30.0, 20.0], [30.0, 10.0]]], &quot;type&quot;: &quot;Polygon&quot;});\n",
              "        geo_json_56fb314b14b56ada6c556a734c84da26.setStyle(function(feature) {return feature.properties.style;});\n",
              "\n",
              "        \n",
              "    \n",
              "            geo_json_56fb314b14b56ada6c556a734c84da26.addTo(map_d8a682c8fed0587172eaff80ac8f0a95);\n",
              "        \n",
              "&lt;/script&gt;\n",
              "&lt;/html&gt;\" style=\"position:absolute;width:100%;height:100%;left:0;top:0;border:none !important;\" allowfullscreen webkitallowfullscreen mozallowfullscreen></iframe></div></div>"
            ]
          },
          "metadata": {},
          "execution_count": 6
        }
      ]
    },
    {
      "cell_type": "markdown",
      "source": [
        "### Lectura y visualización de datos raster (ASC)"
      ],
      "metadata": {
        "id": "MIcFU6_ur7FT"
      },
      "id": "MIcFU6_ur7FT"
    },
    {
      "cell_type": "code",
      "source": [
        "import requests\n",
        "import numpy as np\n",
        "import matplotlib.pyplot as plt\n",
        "from ipyleaflet import Map, ImageOverlay"
      ],
      "metadata": {
        "id": "H0trGJb6vLlk"
      },
      "id": "H0trGJb6vLlk",
      "execution_count": 7,
      "outputs": []
    },
    {
      "cell_type": "code",
      "source": [
        "response = requests.get(ruta_asc)\n",
        "response.raise_for_status()  # Lanzar una excepción para respuestas incorrectas (4xx o 5xx)\n",
        "data_str = response.text\n",
        "\n",
        "data_str"
      ],
      "metadata": {
        "colab": {
          "base_uri": "https://localhost:8080/",
          "height": 140
        },
        "id": "An_hXLLKvNcv",
        "outputId": "1b3b71c5-e7c8-4379-e3ea-c326fe09d6dd"
      },
      "id": "An_hXLLKvNcv",
      "execution_count": 8,
      "outputs": [
        {
          "output_type": "execute_result",
          "data": {
            "text/plain": [
              "'ncols        50\\nnrows        50\\nxllcorner    -70.0\\nyllcorner    -35.0\\ncellsize     0.2\\nNODATA_value -9999\\n255 255 255 255 255 255 255 255 255 255 255 255 255 255 255 255 255 255 255 255 255 255 255 255 035 255 255 255 255 255 255 255 255 255 255 255 255 255 255 255 255 255 255 255 255 255 255 255 255 255\\n255 255 255 255 255 255 255 255 255 255 255 255 255 255 255 255 255 255 255 255 255 255 255 255 035 255 255 255 255 255 255 255 255 255 255 255 255 255 255 255 255 255 255 255 255 255 255 255 255 255\\n255 255 255 255 255 255 255 255 255 255 255 255 255 255 255 255 255 255 255 255 255 255 255 034 034 035 255 255 255 255 255 255 255 255 255 255 255 255 255 255 255 255 255 255 255 255 255 255 255 255\\n255 255 255 255 255 255 255 255 255 255 255 255 255 255 255 255 255 255 255 255 255 255 255 033 034 034 255 255 255 255 255 255 255 255 255 255 255 255 255 255 255 255 255 255 255 255 255 255 255 255\\n255 255 255 255 255 255 255 255 255 255 255 255 255 255 255 255 255 255 255 255 255 255 032 033 033 034 034 255 255 255 255 255 255 255 255 255 255 255 255 255 255 255 255 255 255 255 255 255 255 255\\n255 255 255 255 255 255 255 255 255 255 255 255 255 255 255 255 255 255 255 255 255 255 032 032 033 033 034 255 255 255 255 255 255 255 255 255 255 255 255 255 255 255 255 255 255 255 255 255 255 255\\n255 255 255 255 255 255 255 255 255 255 255 255 255 255 255 255 255 255 255 255 255 031 031 032 032 033 033 034 255 255 255 255 255 255 255 255 255 255 255 255 255 255 255 255 255 255 255 255 255 255\\n255 255 255 255 255 255 255 255 255 255 255 255 255 255 255 255 255 255 255 255 255 030 031 031 032 032 033 033 255 255 255 255 255 255 255 255 255 255 255 255 255 255 255 255 255 255 255 255 255 255\\n255 255 255 255 255 255 255 255 255 255 255 255 255 255 255 255 255 255 255 255 029 030 030 031 031 032 032 033 033 255 255 255 255 255 255 255 255 255 255 255 255 255 255 255 255 255 255 255 255 255\\n255 255 255 255 255 255 255 255 255 255 255 255 255 255 255 255 255 255 255 255 029 029 030 030 031 031 032 032 033 255 255 255 255 255 255 255 255 255 255 255 255 255 255 255 255 255 255 255 255 255\\n255 255 255 255 255 255 255 255 255 255 255 255 255 255 255 255 255 255 255 028 028 029 029 030 030 031 031 032 032 033 255 255 255 255 255 255 255 255 255 255 255 255 255 255 255 255 255 255 255 255\\n255 255 255 255 255 255 255 255 255 255 255 255 255 255 255 255 255 255 255 027 028 028 029 029 030 030 031 031 032 032 255 255 255 255 255 255 255 255 255 255 255 255 255 255 255 255 255 255 255 255\\n255 255 255 255 255 255 255 255 255 255 255 255 255 255 255 255 255 255 026 027 027 028 028 029 029 030 030 031 031 032 032 255 255 255 255 255 255 255 255 255 255 255 255 255 255 255 255 255 255 255\\n255 255 255 255 255 255 255 255 255 255 255 255 255 255 255 255 255 255 026 026 027 027 028 028 029 029 030 030 031 031 032 255 255 255 255 255 255 255 255 255 255 255 255 255 255 255 255 255 255 255\\n255 255 255 255 255 255 255 255 255 255 255 255 255 255 255 255 255 025 025 026 026 027 027 028 028 029 029 030 030 031 031 032 255 255 255 255 255 255 255 255 255 255 255 255 255 255 255 255 255 255\\n255 255 255 255 255 255 255 255 255 255 255 255 255 255 255 255 255 024 025 025 026 026 027 027 028 028 029 029 030 030 031 031 255 255 255 255 255 255 255 255 255 255 255 255 255 255 255 255 255 255\\n255 255 255 255 255 255 255 255 255 255 255 255 255 255 255 255 023 024 024 025 025 026 026 027 027 028 028 029 029 030 030 031 031 255 255 255 255 255 255 255 255 255 255 255 255 255 255 255 255 255\\n255 255 255 255 255 255 255 255 255 255 255 255 255 255 255 255 023 023 024 024 025 025 026 026 027 027 028 028 029 029 030 030 031 255 255 255 255 255 255 255 255 255 255 255 255 255 255 255 255 255\\n255 255 255 255 255 255 255 255 255 255 255 255 255 255 255 022 022 023 023 024 024 025 025 026 026 027 027 028 028 029 029 030 030 031 255 255 255 255 255 255 255 255 255 255 255 255 255 255 255 255\\n255 255 255 255 255 255 255 255 255 255 255 255 255 255 255 021 022 022 023 023 024 024 025 025 026 026 027 027 028 028 029 029 030 030 255 255 255 255 255 255 255 255 255 255 255 255 255 255 255 255\\n255 255 255 255 255 255 255 255 255 255 255 255 255 255 020 021 021 022 022 023 023 024 024 025 025 026 026 027 027 028 028 029 029 030 030 255 255 255 255 255 255 255 255 255 255 255 255 255 255 255\\n255 255 255 255 255 255 255 255 255 255 255 255 255 255 020 020 021 021 022 022 023 023 024 024 025 025 026 026 027 027 028 028 029 029 030 255 255 255 255 255 255 255 255 255 255 255 255 255 255 255\\n255 255 255 255 255 255 255 255 255 255 255 255 255 019 019 020 020 021 021 022 022 023 023 024 024 025 025 026 026 027 027 028 028 029 029 030 255 255 255 255 255 255 255 255 255 255 255 255 255 255\\n255 255 255 255 255 255 255 255 255 255 255 255 255 018 019 019 020 020 021 021 022 022 023 023 024 024 025 025 026 026 027 027 028 028 029 029 255 255 255 255 255 255 255 255 255 255 255 255 255 255\\n255 255 255 255 255 255 255 255 255 255 255 255 017 018 018 019 019 020 020 021 021 022 022 023 023 024 024 025 025 026 026 027 027 028 028 029 029 255 255 255 255 255 255 255 255 255 255 255 255 255\\n255 255 255 255 255 255 255 255 255 255 255 255 017 017 018 018 019 019 020 020 021 021 022 022 023 023 024 024 025 025 026 026 027 027 028 028 029 255 255 255 255 255 255 255 255 255 255 255 255 255\\n255 255 255 255 255 255 255 255 255 255 255 016 016 017 017 018 018 019 019 020 020 021 021 022 022 023 023 024 024 025 025 026 026 027 027 028 028 029 255 255 255 255 255 255 255 255 255 255 255 255\\n255 255 255 255 255 255 255 255 255 255 255 015 016 016 017 017 018 018 019 019 020 020 021 021 022 022 023 023 024 024 025 025 026 026 027 027 028 028 255 255 255 255 255 255 255 255 255 255 255 255\\n255 255 255 255 255 255 255 255 255 255 014 015 015 016 016 017 017 018 018 019 019 020 020 021 021 022 022 023 023 024 024 025 025 026 026 027 027 028 028 255 255 255 255 255 255 255 255 255 255 255\\n255 255 255 255 255 255 255 255 255 255 014 014 015 015 016 016 017 017 018 018 019 019 020 020 021 021 022 022 023 023 024 024 025 025 026 026 027 027 028 255 255 255 255 255 255 255 255 255 255 255\\n255 255 255 255 255 255 255 255 255 013 013 014 014 015 015 016 016 017 017 018 018 019 019 020 020 021 021 022 022 023 023 024 024 025 025 026 026 027 027 028 255 255 255 255 255 255 255 255 255 255\\n255 255 255 255 255 255 255 255 255 012 013 013 014 014 015 015 016 016 017 017 018 018 019 019 020 020 021 021 022 022 023 023 024 024 025 025 026 026 027 027 255 255 255 255 255 255 255 255 255 255\\n255 255 255 255 255 255 255 255 011 012 012 013 013 014 014 015 015 016 016 017 017 018 018 019 019 020 020 021 021 022 022 023 023 024 024 025 025 026 026 027 027 255 255 255 255 255 255 255 255 255\\n255 255 255 255 255 255 255 255 011 011 012 012 013 013 014 014 015 015 016 016 017 017 018 018 019 019 020 020 021 021 022 022 023 023 024 024 025 025 026 026 027 255 255 255 255 255 255 255 255 255\\n255 255 255 255 255 255 255 010 010 011 011 012 012 013 013 014 014 015 015 016 016 017 017 018 018 019 019 020 020 021 021 022 022 023 023 024 024 025 025 026 026 027 255 255 255 255 255 255 255 255\\n255 255 255 255 255 255 255 009 010 010 011 011 012 012 013 013 014 014 015 015 016 016 017 017 018 018 019 019 020 020 021 021 022 022 023 023 024 024 025 025 026 026 255 255 255 255 255 255 255 255\\n255 255 255 255 255 255 008 009 009 010 010 011 011 012 012 013 013 014 014 015 015 016 016 017 017 018 018 019 019 020 020 021 021 022 022 023 023 024 024 025 025 026 026 255 255 255 255 255 255 255\\n255 255 255 255 255 255 008 008 009 009 010 010 011 011 012 012 013 013 014 014 015 015 016 016 017 017 018 018 019 019 020 020 021 021 022 022 023 023 024 024 025 025 026 255 255 255 255 255 255 255\\n255 255 255 255 255 007 007 008 008 009 009 010 010 011 011 012 012 013 013 014 014 015 015 016 016 017 017 018 018 019 019 020 020 021 021 022 022 023 023 024 024 025 025 026 255 255 255 255 255 255\\n255 255 255 255 255 006 007 007 008 008 009 009 010 010 011 011 012 012 013 013 014 014 015 015 016 016 017 017 018 018 019 019 020 020 021 021 022 022 023 023 024 024 025 025 255 255 255 255 255 255\\n255 255 255 255 005 006 006 007 007 008 008 009 009 010 010 011 011 012 012 013 013 014 014 015 015 016 016 017 017 018 018 019 019 020 020 021 021 022 022 023 023 024 024 025 025 255 255 255 255 255\\n255 255 255 255 005 005 006 006 007 007 008 008 009 009 010 010 011 011 012 012 013 013 014 014 015 015 016 016 017 017 018 018 019 019 020 020 021 021 022 022 023 023 024 024 025 255 255 255 255 255\\n255 255 255 004 004 005 005 006 006 007 007 008 008 009 009 010 010 011 011 012 012 013 013 014 014 015 015 016 016 017 017 018 018 019 019 020 020 021 021 022 022 023 023 024 024 025 255 255 255 255\\n255 255 255 003 004 004 005 005 006 006 007 007 008 008 009 009 010 010 011 011 012 012 013 013 014 014 015 015 016 016 017 017 018 018 019 019 020 020 021 021 022 022 023 023 024 024 255 255 255 255\\n255 255 002 003 003 004 004 005 005 006 006 007 007 008 008 009 009 010 010 011 011 012 012 013 013 014 014 015 015 016 016 017 017 018 018 019 019 020 020 021 021 022 022 023 023 024 024 255 255 255\\n255 255 002 002 003 003 004 004 005 005 006 006 007 007 008 008 009 009 010 010 011 011 012 012 013 013 014 014 015 015 016 016 017 017 018 018 019 019 020 020 021 021 022 022 023 023 024 255 255 255\\n255 001 001 002 002 003 003 004 004 005 005 006 006 007 007 008 008 009 009 010 010 011 011 012 012 013 013 014 014 015 015 016 016 017 017 018 018 019 019 020 020 021 021 022 022 023 023 024 255 255\\n255 000 001 001 002 002 003 003 004 004 005 005 006 006 007 007 008 008 009 009 010 010 011 011 012 012 013 013 014 014 015 015 016 016 017 017 018 018 019 019 020 020 021 021 022 022 023 023 255 255\\n000 000 000 001 001 002 002 003 003 004 004 005 005 006 006 007 007 008 008 009 009 010 010 011 011 012 012 013 013 014 014 015 015 016 016 017 017 018 018 019 019 020 020 021 021 022 022 023 023 255\\n255 255 255 255 255 255 255 255 255 255 255 255 255 255 255 255 255 255 255 255 255 255 255 255 255 255 255 255 255 255 255 255 255 255 255 255 255 255 255 255 255 255 255 255 255 255 255 255 255 255\\n'"
            ],
            "application/vnd.google.colaboratory.intrinsic+json": {
              "type": "string"
            }
          },
          "metadata": {},
          "execution_count": 8
        }
      ]
    },
    {
      "cell_type": "code",
      "source": [
        "# Dividir los datos en líneas\n",
        "lines = data_str.splitlines()"
      ],
      "metadata": {
        "id": "w0x4LaNkzmUf"
      },
      "id": "w0x4LaNkzmUf",
      "execution_count": 9,
      "outputs": []
    },
    {
      "cell_type": "code",
      "source": [
        "header = lines[:6]\n",
        "\n",
        "# Extraer información del encabezado\n",
        "header_info = {line.split()[0]: float(line.split()[1]) for line in header}\n",
        "ncols = int(header_info['ncols'])\n",
        "nrows = int(header_info['nrows'])\n",
        "xllcorner = header_info['xllcorner']\n",
        "yllcorner = header_info['yllcorner']\n",
        "cellsize = header_info['cellsize']"
      ],
      "metadata": {
        "id": "sJy07cUkzi46"
      },
      "id": "sJy07cUkzi46",
      "execution_count": 10,
      "outputs": []
    },
    {
      "cell_type": "code",
      "source": [
        "# Omitir las primeras 6 líneas de encabezado\n",
        "raster_data_lines = lines[6:]\n",
        "\n",
        "# Convertir las líneas restantes en un array NumPy\n",
        "raster_data = np.loadtxt(raster_data_lines, dtype=float)\n",
        "\n",
        "# Crear el gráfico con los datos raster\n",
        "plt.figure(figsize=(8, 6))\n",
        "plt.imshow(raster_data, cmap='viridis', extent=[xllcorner, xllcorner + ncols * cellsize,\n",
        "                                                yllcorner, yllcorner + nrows * cellsize])\n",
        "plt.colorbar(label=\"Valor del Raster\")\n",
        "plt.title(\"Raster con Escala de Colores (Triángulo)\")\n",
        "plt.xlabel(\"Longitud\")\n",
        "plt.ylabel(\"Latitud\")\n",
        "plt.grid(color='gray', linestyle='--', linewidth=0.5, alpha=0.5)\n",
        "plt.show()"
      ],
      "metadata": {
        "colab": {
          "base_uri": "https://localhost:8080/",
          "height": 565
        },
        "id": "LWA7frk5sfvZ",
        "outputId": "9e510656-2ed9-41e0-cbbc-d26d140aa917"
      },
      "id": "LWA7frk5sfvZ",
      "execution_count": 11,
      "outputs": [
        {
          "output_type": "display_data",
          "data": {
            "text/plain": [
              "<Figure size 800x600 with 2 Axes>"
            ],
            "image/png": "[encoded data removed]"
          },
          "metadata": {}
        }
      ]
    },
    {
      "cell_type": "code",
      "source": [
        "from ipyleaflet import Map, ImageOverlay\n",
        "\n",
        "# Coordenadas de los bordes del raster (basadas en los datos originales)\n",
        "bounds = [\n",
        "    [-35.0, -70.0],  # Esquina inferior izquierda (latitud, longitud)\n",
        "    [-25.0, -60.0]   # Esquina superior derecha (latitud, longitud)\n",
        "]\n",
        "\n",
        "# Crear el mapa centrado en el área del triángulo\n",
        "centro = [(bounds[0][0] + bounds[1][0]) / 2, (bounds[0][1] + bounds[1][1]) / 2]\n",
        "mapa = Map(center=centro, zoom=6)\n",
        "\n",
        "# Usar la imagen directamente desde la URL\n",
        "url_imagen = \"https://raw.githubusercontent.com/jumafernandez/data-science-II/main/clase-datos-espaciales/data/triangulo_argentina.png\"\n",
        "image_overlay = ImageOverlay(\n",
        "    url=url_imagen,\n",
        "    bounds=bounds,\n",
        "    opacity=0.6  # Ajustar la transparencia\n",
        ")\n",
        "\n",
        "# Agregar la superposición de la imagen al mapa\n",
        "mapa.add_layer(image_overlay)\n",
        "\n",
        "# Mostrar el mapa interactivo\n",
        "mapa\n"
      ],
      "metadata": {
        "colab": {
          "base_uri": "https://localhost:8080/",
          "height": 421,
          "referenced_widgets": [
            "b078f91bc185434c96d70beeca1aa86c",
            "6fd61c4c8d07466cbd30055efc6c5424",
            "c9c11adf3aab4ce3bcb5a9b77fb640ba",
            "0d6dbcbc7bdb480ba6744a5c163df567",
            "1899319d493f49339361840ef814d8b8",
            "a4a57b46edca4b978378fef19af7285d",
            "e849592e283a4798b279e22b9fea5b4f",
            "f569cf30254c4598b1ea1bbd6c8941b3",
            "b87a79021ff241f8a5e44069263f1d44"
          ]
        },
        "id": "jn5X_rEnxiZE",
        "outputId": "0c8e5956-bc89-4819-934a-5843bedc2989"
      },
      "id": "jn5X_rEnxiZE",
      "execution_count": 14,
      "outputs": [
        {
          "output_type": "display_data",
          "data": {
            "text/plain": [
              "Map(center=[-30.0, -65.0], controls=(ZoomControl(options=['position', 'zoom_in_text', 'zoom_in_title', 'zoom_o…"
            ],
            "application/vnd.jupyter.widget-view+json": {
              "version_major": 2,
              "version_minor": 0,
              "model_id": "b078f91bc185434c96d70beeca1aa86c"
            }
          },
          "metadata": {
            "application/vnd.jupyter.widget-view+json": {
              "colab": {
                "custom_widget_manager": {
                  "url": "https://ssl.gstatic.com/colaboratory-static/widgets/colab-cdn-widget-manager/2b70e893a8ba7c0f/manager.min.js"
                }
              }
            }
          }
        }
      ]
    }
  ],
  "metadata": {
    "kernelspec": {
      "display_name": "Python 3 (ipykernel)",
      "language": "python",
      "name": "python3"
    },
    "language_info": {
      "codemirror_mode": {
        "name": "ipython",
        "version": 3
      },
      "file_extension": ".py",
      "mimetype": "text/x-python",
      "name": "python",
      "nbconvert_exporter": "python",
      "pygments_lexer": "ipython3",
      "version": "3.8"
    },
    "colab": {
      "provenance": [],
      "toc_visible": true,
      "include_colab_link": true
    },
    "widgets": {
      "application/vnd.jupyter.widget-state+json": {
        "b078f91bc185434c96d70beeca1aa86c": {
          "model_module": "jupyter-leaflet",
          "model_name": "LeafletMapModel",
          "model_module_version": "^0.19",
          "state": {
            "_dom_classes": [],
            "_model_module": "jupyter-leaflet",
            "_model_module_version": "^0.19",
            "_model_name": "LeafletMapModel",
            "_view_count": null,
            "_view_module": "jupyter-leaflet",
            "_view_module_version": "^0.19",
            "_view_name": "LeafletMapView",
            "bottom": 9824,
            "bounce_at_zoom_limits": true,
            "box_zoom": true,
            "center": [
              -29.993002284551064,
              -65.00610351562501
            ],
            "close_popup_on_click": true,
            "controls": [
              "IPY_MODEL_6fd61c4c8d07466cbd30055efc6c5424",
              "IPY_MODEL_c9c11adf3aab4ce3bcb5a9b77fb640ba"
            ],
            "crs": {
              "name": "EPSG3857",
              "custom": false
            },
            "default_style": "IPY_MODEL_0d6dbcbc7bdb480ba6744a5c163df567",
            "double_click_zoom": true,
            "dragging": true,
            "dragging_style": "IPY_MODEL_1899319d493f49339361840ef814d8b8",
            "east": -52.82226562500001,
            "fullscreen": false,
            "inertia": true,
            "inertia_deceleration": 3000,
            "inertia_max_speed": 1500,
            "interpolation": "bilinear",
            "keyboard": true,
            "keyboard_pan_offset": 80,
            "keyboard_zoom_offset": 1,
            "layers": [
              "IPY_MODEL_a4a57b46edca4b978378fef19af7285d",
              "IPY_MODEL_e849592e283a4798b279e22b9fea5b4f"
            ],
            "layout": "IPY_MODEL_f569cf30254c4598b1ea1bbd6c8941b3",
            "left": 4679,
            "max_zoom": null,
            "min_zoom": null,
            "modisdate": "2025-01-20",
            "north": -26.11598592533351,
            "options": [
              "bounce_at_zoom_limits",
              "box_zoom",
              "center",
              "close_popup_on_click",
              "double_click_zoom",
              "dragging",
              "fullscreen",
              "inertia",
              "inertia_deceleration",
              "inertia_max_speed",
              "interpolation",
              "keyboard",
              "keyboard_pan_offset",
              "keyboard_zoom_offset",
              "max_zoom",
              "min_zoom",
              "prefer_canvas",
              "scroll_wheel_zoom",
              "tap",
              "tap_tolerance",
              "touch_zoom",
              "world_copy_jump",
              "zoom",
              "zoom_animation_threshold",
              "zoom_delta",
              "zoom_snap"
            ],
            "panes": {},
            "prefer_canvas": false,
            "right": 5788,
            "scroll_wheel_zoom": false,
            "south": -33.7243396617476,
            "style": "IPY_MODEL_0d6dbcbc7bdb480ba6744a5c163df567",
            "tap": true,
            "tap_tolerance": 15,
            "top": 9424,
            "touch_zoom": true,
            "west": -77.18994140625,
            "window_url": "https://3vr33hhu51u-496ff2e9c6d22116-0-colab.googleusercontent.com/outputframe.html?vrz=colab_20250117-060153_RC00_716631114",
            "world_copy_jump": false,
            "zoom": 6,
            "zoom_animation_threshold": 4,
            "zoom_delta": 1,
            "zoom_snap": 1
          }
        },
        "6fd61c4c8d07466cbd30055efc6c5424": {
          "model_module": "jupyter-leaflet",
          "model_name": "LeafletZoomControlModel",
          "model_module_version": "^0.19",
          "state": {
            "_model_module": "jupyter-leaflet",
            "_model_module_version": "^0.19",
            "_model_name": "LeafletZoomControlModel",
            "_view_count": null,
            "_view_module": "jupyter-leaflet",
            "_view_module_version": "^0.19",
            "_view_name": "LeafletZoomControlView",
            "options": [
              "position",
              "zoom_in_text",
              "zoom_in_title",
              "zoom_out_text",
              "zoom_out_title"
            ],
            "position": "topleft",
            "zoom_in_text": "+",
            "zoom_in_title": "Zoom in",
            "zoom_out_text": "-",
            "zoom_out_title": "Zoom out"
          }
        },
        "c9c11adf3aab4ce3bcb5a9b77fb640ba": {
          "model_module": "jupyter-leaflet",
          "model_name": "LeafletAttributionControlModel",
          "model_module_version": "^0.19",
          "state": {
            "_model_module": "jupyter-leaflet",
            "_model_module_version": "^0.19",
            "_model_name": "LeafletAttributionControlModel",
            "_view_count": null,
            "_view_module": "jupyter-leaflet",
            "_view_module_version": "^0.19",
            "_view_name": "LeafletAttributionControlView",
            "options": [
              "position",
              "prefix"
            ],
            "position": "bottomright",
            "prefix": "ipyleaflet"
          }
        },
        "0d6dbcbc7bdb480ba6744a5c163df567": {
          "model_module": "jupyter-leaflet",
          "model_name": "LeafletMapStyleModel",
          "model_module_version": "^0.19",
          "state": {
            "_model_module": "jupyter-leaflet",
            "_model_module_version": "^0.19",
            "_model_name": "LeafletMapStyleModel",
            "_view_count": null,
            "_view_module": "@jupyter-widgets/base",
            "_view_module_version": "1.2.0",
            "_view_name": "StyleView",
            "cursor": "grab"
          }
        },
        "1899319d493f49339361840ef814d8b8": {
          "model_module": "jupyter-leaflet",
          "model_name": "LeafletMapStyleModel",
          "model_module_version": "^0.19",
          "state": {
            "_model_module": "jupyter-leaflet",
            "_model_module_version": "^0.19",
            "_model_name": "LeafletMapStyleModel",
            "_view_count": null,
            "_view_module": "@jupyter-widgets/base",
            "_view_module_version": "1.2.0",
            "_view_name": "StyleView",
            "cursor": "move"
          }
        },
        "a4a57b46edca4b978378fef19af7285d": {
          "model_module": "jupyter-leaflet",
          "model_name": "LeafletTileLayerModel",
          "model_module_version": "^0.19",
          "state": {
            "_model_module": "jupyter-leaflet",
            "_model_module_version": "^0.19",
            "_model_name": "LeafletTileLayerModel",
            "_view_count": null,
            "_view_module": "jupyter-leaflet",
            "_view_module_version": "^0.19",
            "_view_name": "LeafletTileLayerView",
            "attribution": "&copy; <a href=\"https://www.openstreetmap.org/copyright\">OpenStreetMap</a> contributors",
            "base": true,
            "bottom": true,
            "bounds": null,
            "detect_retina": false,
            "loading": false,
            "max_native_zoom": null,
            "max_zoom": 19,
            "min_native_zoom": null,
            "min_zoom": 1,
            "name": "OpenStreetMap.Mapnik",
            "no_wrap": false,
            "opacity": 1,
            "options": [
              "attribution",
              "bounds",
              "detect_retina",
              "max_native_zoom",
              "max_zoom",
              "min_native_zoom",
              "min_zoom",
              "no_wrap",
              "tile_size",
              "tms",
              "zoom_offset"
            ],
            "pane": "",
            "popup": null,
            "popup_max_height": null,
            "popup_max_width": 300,
            "popup_min_width": 50,
            "show_loading": false,
            "subitems": [],
            "tile_size": 256,
            "tms": false,
            "url": "https://tile.openstreetmap.org/{z}/{x}/{y}.png",
            "visible": true,
            "zoom_offset": 0
          }
        },
        "e849592e283a4798b279e22b9fea5b4f": {
          "model_module": "jupyter-leaflet",
          "model_name": "LeafletImageOverlayModel",
          "model_module_version": "^0.19",
          "state": {
            "_model_module": "jupyter-leaflet",
            "_model_module_version": "^0.19",
            "_model_name": "LeafletImageOverlayModel",
            "_view_count": null,
            "_view_module": "jupyter-leaflet",
            "_view_module_version": "^0.19",
            "_view_name": "LeafletImageOverlayView",
            "attribution": "",
            "base": false,
            "bottom": false,
            "bounds": [
              [
                -35,
                -70
              ],
              [
                -25,
                -60
              ]
            ],
            "name": "",
            "opacity": 0.6,
            "options": [
              "attribution"
            ],
            "pane": "",
            "popup": null,
            "popup_max_height": null,
            "popup_max_width": 300,
            "popup_min_width": 50,
            "subitems": [],
            "url": "https://raw.githubusercontent.com/jumafernandez/data-science-II/main/clase-datos-espaciales/data/triangulo_argentina.png",
            "visible": true
          }
        },
        "f569cf30254c4598b1ea1bbd6c8941b3": {
          "model_module": "@jupyter-widgets/base",
          "model_name": "LayoutModel",
          "model_module_version": "1.2.0",
          "state": {
            "_model_module": "@jupyter-widgets/base",
            "_model_module_version": "1.2.0",
            "_model_name": "LayoutModel",
            "_view_count": null,
            "_view_module": "@jupyter-widgets/base",
            "_view_module_version": "1.2.0",
            "_view_name": "LayoutView",
            "align_content": null,
            "align_items": null,
            "align_self": null,
            "border": null,
            "bottom": null,
            "display": null,
            "flex": null,
            "flex_flow": null,
            "grid_area": null,
            "grid_auto_columns": null,
            "grid_auto_flow": null,
            "grid_auto_rows": null,
            "grid_column": null,
            "grid_gap": null,
            "grid_row": null,
            "grid_template_areas": null,
            "grid_template_columns": null,
            "grid_template_rows": null,
            "height": null,
            "justify_content": null,
            "justify_items": null,
            "left": null,
            "margin": null,
            "max_height": null,
            "max_width": null,
            "min_height": null,
            "min_width": null,
            "object_fit": null,
            "object_position": null,
            "order": null,
            "overflow": null,
            "overflow_x": null,
            "overflow_y": null,
            "padding": null,
            "right": null,
            "top": null,
            "visibility": null,
            "width": null
          }
        },
        "b87a79021ff241f8a5e44069263f1d44": {
          "model_module": "jupyter-leaflet",
          "model_name": "LeafletMapStyleModel",
          "model_module_version": "^0.19",
          "state": {
            "_model_module": "jupyter-leaflet",
            "_model_module_version": "^0.19",
            "_model_name": "LeafletMapStyleModel",
            "_view_count": null,
            "_view_module": "@jupyter-widgets/base",
            "_view_module_version": "1.2.0",
            "_view_name": "StyleView",
            "cursor": "grab"
          }
        }
      }
    }
  },
  "nbformat": 4,
  "nbformat_minor": 5
}