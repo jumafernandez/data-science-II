{
  "nbformat": 4,
  "nbformat_minor": 0,
  "metadata": {
    "colab": {
      "provenance": [],
      "authorship_tag": "ABX9TyM4QZaVPnplYaYRp4WG2zKg",
      "include_colab_link": true
    },
    "kernelspec": {
      "name": "python3",
      "display_name": "Python 3"
    },
    "language_info": {
      "name": "python"
    }
  },
  "cells": [
    {
      "cell_type": "markdown",
      "metadata": {
        "id": "view-in-github",
        "colab_type": "text"
      },
      "source": [
        "<a href=\"https://colab.research.google.com/github/jumafernandez/data-science-II/blob/main/Stacking.ipynb\" target=\"_parent\"><img src=\"https://colab.research.google.com/assets/colab-badge.svg\" alt=\"Open In Colab\"/></a>"
      ]
    },
    {
      "cell_type": "markdown",
      "source": [
        "# Métodos de ensamble: Stacking\n",
        "\n",
        "En esta notebook implementamos un pequeño ejemplo de utilización de métodos de ensamble mediante la estrategia de _stacking_, donde hay un conjunto de modelos independientes que aprenden de los datos y luego un _meta-modelo_ que aprende a partir de las predicciones de los modelos independientes, lo cual se ilustra en el siguiente esquema:\n",
        "\n",
        "<img src=\"https://editor.analyticsvidhya.com/uploads/39725Stacking.png\" alt=\"Esquema stacking general\" width=\"500\">\n"
      ],
      "metadata": {
        "id": "aFKz4eT-e5LQ"
      }
    },
    {
      "cell_type": "markdown",
      "source": [
        "Cargamos las librerías necesarias:"
      ],
      "metadata": {
        "id": "6PtWVqDWfElA"
      }
    },
    {
      "cell_type": "code",
      "execution_count": 1,
      "metadata": {
        "id": "eFmlvUGleAtu"
      },
      "outputs": [],
      "source": [
        "from sklearn.ensemble import StackingClassifier\n",
        "from sklearn.linear_model import LogisticRegression\n",
        "from sklearn.tree import DecisionTreeClassifier\n",
        "from sklearn.svm import SVC\n",
        "from sklearn.neighbors import KNeighborsClassifier\n",
        "from sklearn.model_selection import train_test_split\n",
        "from sklearn.datasets import load_breast_cancer\n",
        "from sklearn.metrics import accuracy_score"
      ]
    },
    {
      "cell_type": "markdown",
      "source": [
        "Cargamos el dataset a utilizar, en nuestro caso el de cancer de mama y lo separamos en train y test:"
      ],
      "metadata": {
        "id": "dibdCtC_fGja"
      }
    },
    {
      "cell_type": "code",
      "source": [
        "X, y = load_breast_cancer(return_X_y=True)\n",
        "X_train, X_test, y_train, y_test = train_test_split(X, y, test_size=0.2, random_state=42)\n",
        "\n",
        "X_train.shape"
      ],
      "metadata": {
        "colab": {
          "base_uri": "https://localhost:8080/"
        },
        "id": "lvAGxJa7eZKj",
        "outputId": "a51d0b68-7ed0-47aa-9a40-e54e53d307c2"
      },
      "execution_count": 2,
      "outputs": [
        {
          "output_type": "execute_result",
          "data": {
            "text/plain": [
              "(455, 30)"
            ]
          },
          "metadata": {},
          "execution_count": 2
        }
      ]
    },
    {
      "cell_type": "markdown",
      "source": [
        "Entrenamos modelos base por separado y verificamos el accuracy:"
      ],
      "metadata": {
        "id": "Qkxfys4wfOG_"
      }
    },
    {
      "cell_type": "code",
      "source": [
        "# Modelos base\n",
        "clf1 = DecisionTreeClassifier(random_state=42)\n",
        "clf2 = SVC(probability=True, random_state=42)  # Es necesario probability=True para stacking\n",
        "clf3 = KNeighborsClassifier(n_neighbors=3)\n",
        "\n",
        "# Entrenamiento y evaluación individual de cada modelo\n",
        "clf1.fit(X_train, y_train)\n",
        "y_pred1 = clf1.predict(X_test)\n",
        "print(f\"Accuracy Decision Tree: {accuracy_score(y_test, y_pred1):.2f}\")\n",
        "\n",
        "clf2.fit(X_train, y_train)\n",
        "y_pred2 = clf2.predict(X_test)\n",
        "print(f\"Accuracy SVM: {accuracy_score(y_test, y_pred2):.2f}\")\n",
        "\n",
        "clf3.fit(X_train, y_train)\n",
        "y_pred3 = clf3.predict(X_test)\n",
        "print(f\"Accuracy KNN: {accuracy_score(y_test, y_pred3):.2f}\")"
      ],
      "metadata": {
        "colab": {
          "base_uri": "https://localhost:8080/"
        },
        "id": "2Q8CVU5lebIz",
        "outputId": "be71f2b6-f1b1-4a3d-d99c-39eb2723b803"
      },
      "execution_count": 3,
      "outputs": [
        {
          "output_type": "stream",
          "name": "stdout",
          "text": [
            "Accuracy Decision Tree: 0.95\n",
            "Accuracy SVM: 0.95\n",
            "Accuracy KNN: 0.93\n"
          ]
        }
      ]
    },
    {
      "cell_type": "markdown",
      "source": [
        "Ahora entrenamos el ensamble a través de la estrategia de stacking:"
      ],
      "metadata": {
        "id": "7zZauneTfz0e"
      }
    },
    {
      "cell_type": "code",
      "source": [
        "# Aplicación de Stacking\n",
        "estimators = [\n",
        "    ('decision_tree', DecisionTreeClassifier(random_state=42)),\n",
        "    ('svm', SVC(probability=True, random_state=42)),\n",
        "    ('knn', KNeighborsClassifier(n_neighbors=3))\n",
        "    ]\n",
        "\n",
        "# Meta-modelo: Regresión Logística\n",
        "stacking_clf = StackingClassifier(\n",
        "    estimators=estimators,\n",
        "    final_estimator=LogisticRegression(random_state=42)\n",
        ")\n",
        "\n",
        "# Entrenamiento del modelo Stacking\n",
        "stacking_clf.fit(X_train, y_train)\n",
        "y_pred_stack = stacking_clf.predict(X_test)\n",
        "\n",
        "# Evaluación del modelo Stacking\n",
        "print(f\"Accuracy Stacking: {accuracy_score(y_test, y_pred_stack):.2f}\")\n"
      ],
      "metadata": {
        "colab": {
          "base_uri": "https://localhost:8080/"
        },
        "id": "rw8EN1EEed2o",
        "outputId": "48610f22-ec3f-44d9-88e7-37017dee68ab"
      },
      "execution_count": 4,
      "outputs": [
        {
          "output_type": "stream",
          "name": "stdout",
          "text": [
            "Accuracy Stacking: 0.97\n"
          ]
        }
      ]
    },
    {
      "cell_type": "markdown",
      "source": [
        "A partir del accuracy podemos ver que con la estrategia de stacking podemos mejorar la performance de la clasificación."
      ],
      "metadata": {
        "id": "56_5wPsbC9_m"
      }
    },
    {
      "cell_type": "markdown",
      "source": [
        "### Entendiendo la estrategia de Stacking\n",
        "\n",
        "Si bien ya hemos podido resolver el pproblema entrenando un modelo de ensamble mediante _stacking_, ahora vamos a intentar entender que está pasando con mayor profundidad.\n",
        "\n",
        "Para ello, es posible armar un dataframe con las estimaciones de los modelos independientes (árbol de clasificación, máquina vector soporte y vecinos más cercanos):"
      ],
      "metadata": {
        "id": "vetJnFdEy92B"
      }
    },
    {
      "cell_type": "code",
      "source": [
        "import pandas as pd\n",
        "\n",
        "# Acceder a las predicciones de los estimadores base para entrenar el meta-modelo\n",
        "predicciones_estimadores_base = stacking_clf.transform(X_train)\n",
        "\n",
        "# Obtener los nombres de los estimadores base\n",
        "estimadores_base_nombres = [est.__class__.__name__ for est in stacking_clf.estimators_]\n",
        "\n",
        "# Crear un DataFrame con las predicciones de los estimadores base\n",
        "df_predicciones = pd.DataFrame(predicciones_estimadores_base, columns=estimadores_base_nombres)\n",
        "\n",
        "# Mostrar las primeras filas del DataFrame\n",
        "print(df_predicciones.head())"
      ],
      "metadata": {
        "colab": {
          "base_uri": "https://localhost:8080/"
        },
        "id": "Znn5eTpeudqi",
        "outputId": "ca88184b-a334-4573-ea2b-e9d9d7627c62"
      },
      "execution_count": 5,
      "outputs": [
        {
          "output_type": "stream",
          "name": "stdout",
          "text": [
            "   DecisionTreeClassifier       SVC  KNeighborsClassifier\n",
            "0                     1.0  0.972563                   1.0\n",
            "1                     0.0  0.000725                   0.0\n",
            "2                     1.0  0.976237                   1.0\n",
            "3                     1.0  0.964614                   1.0\n",
            "4                     1.0  0.976413                   1.0\n"
          ]
        }
      ]
    },
    {
      "cell_type": "markdown",
      "source": [
        "A su vez, podemos acceder a los coeficientes de la regresión logística que funciona como __meta-modelo__:"
      ],
      "metadata": {
        "id": "robu3OJgzrpd"
      }
    },
    {
      "cell_type": "code",
      "source": [
        "# Verificar los nombres de los estimadores\n",
        "estimadores_base_nombres = [est.__class__.__name__ for est in stacking_clf.estimators_]\n",
        "\n",
        "# Acceder a los coeficientes de la regresión logística\n",
        "log_reg = stacking_clf.final_estimator_\n",
        "coeficientes = log_reg.coef_\n",
        "intercepto = log_reg.intercept_\n",
        "\n",
        "# Mostrar los coeficientes asociados a cada estimador\n",
        "for est_name, coef in zip(estimadores_base_nombres, coeficientes[0]):\n",
        "    print(f\"Coeficiente para {est_name}: {coef}\")\n",
        "\n",
        "# Mostrar intercepto\n",
        "print(\"Intercepto de la regresión logística:\", intercepto)"
      ],
      "metadata": {
        "colab": {
          "base_uri": "https://localhost:8080/"
        },
        "id": "lRByuqoswa1i",
        "outputId": "1dff5ce4-9625-4cbe-994a-e06fb37ea78d"
      },
      "execution_count": 6,
      "outputs": [
        {
          "output_type": "stream",
          "name": "stdout",
          "text": [
            "Coeficiente para DecisionTreeClassifier: 2.4439015481592397\n",
            "Coeficiente para SVC: 2.1907700553846414\n",
            "Coeficiente para KNeighborsClassifier: 2.5838222714630095\n",
            "Intercepto de la regresión logística: [-3.71698167]\n"
          ]
        }
      ]
    },
    {
      "cell_type": "markdown",
      "source": [
        "Por último, podemos utilizar los valores del dataset y los coeficientes del modelo de regresión logística para simular la clasificación que realiza el clasificador:"
      ],
      "metadata": {
        "id": "-X_enFtn0dLN"
      }
    },
    {
      "cell_type": "code",
      "source": [
        "import numpy as np\n",
        "\n",
        "# Aplanar el coeficiente, si es necesario\n",
        "coeficientes = log_reg.coef_[0]  # Asegúrate de que esto sea 1D\n",
        "\n",
        "# Usar la fórmula de la regresión logística: z = X * coef + intercepto\n",
        "z = np.dot(df_predicciones.values, coeficientes) + intercepto\n",
        "\n",
        "# Aplicar la función sigmoide para obtener probabilidades\n",
        "predicciones_meta_modelo = 1 / (1 + np.exp(-z))\n",
        "\n",
        "# Agregar las predicciones al DataFrame\n",
        "df_predicciones['proba_meta_modelo'] = predicciones_meta_modelo"
      ],
      "metadata": {
        "id": "SnEIV67A0lL1"
      },
      "execution_count": 7,
      "outputs": []
    },
    {
      "cell_type": "markdown",
      "source": [
        "Ahora podemos ver en prediccion_meta_modelo la probabilidad de pertenecer a la clase positiva:"
      ],
      "metadata": {
        "id": "WdPe7xrG1aij"
      }
    },
    {
      "cell_type": "code",
      "source": [
        "print(df_predicciones.head())"
      ],
      "metadata": {
        "colab": {
          "base_uri": "https://localhost:8080/"
        },
        "id": "a4zt-fyd1a4L",
        "outputId": "aade9be6-a3c7-4679-967f-7429ffa5ec4f"
      },
      "execution_count": 8,
      "outputs": [
        {
          "output_type": "stream",
          "name": "stdout",
          "text": [
            "   DecisionTreeClassifier       SVC  KNeighborsClassifier  proba_meta_modelo\n",
            "0                     1.0  0.972563                   1.0           0.968974\n",
            "1                     0.0  0.000725                   0.0           0.023767\n",
            "2                     1.0  0.976237                   1.0           0.969215\n",
            "3                     1.0  0.964614                   1.0           0.968446\n",
            "4                     1.0  0.976413                   1.0           0.969226\n"
          ]
        }
      ]
    },
    {
      "cell_type": "markdown",
      "source": [
        "Y podemos transformar eso en una predicción de clase y compararlo con la clase real:"
      ],
      "metadata": {
        "id": "3Ce3Zgps1gpi"
      }
    },
    {
      "cell_type": "code",
      "source": [
        "# Agregar una nueva columna 'clasificacion' basada en las reglas proporcionadas\n",
        "df_predicciones['clasificacion'] = np.where(df_predicciones['proba_meta_modelo'] >= 0.5, 1, 0)\n",
        "df_predicciones['clase_real'] = y_train\n",
        "\n",
        "# Mostrar las primeras filas del DataFrame con la nueva columna de clasificación\n",
        "print(df_predicciones)\n"
      ],
      "metadata": {
        "colab": {
          "base_uri": "https://localhost:8080/"
        },
        "id": "q2CUSly61Uks",
        "outputId": "ceafdaa1-e81e-4939-b06e-4a7abed98379"
      },
      "execution_count": 10,
      "outputs": [
        {
          "output_type": "stream",
          "name": "stdout",
          "text": [
            "     DecisionTreeClassifier       SVC  KNeighborsClassifier  \\\n",
            "0                       1.0  0.972563              1.000000   \n",
            "1                       0.0  0.000725              0.000000   \n",
            "2                       1.0  0.976237              1.000000   \n",
            "3                       1.0  0.964614              1.000000   \n",
            "4                       1.0  0.976413              1.000000   \n",
            "..                      ...       ...                   ...   \n",
            "450                     1.0  0.976379              1.000000   \n",
            "451                     1.0  0.957451              1.000000   \n",
            "452                     1.0  0.909842              1.000000   \n",
            "453                     0.0  0.404710              0.333333   \n",
            "454                     1.0  0.957145              1.000000   \n",
            "\n",
            "     proba_meta_modelo  clasificacion  clase_real  \n",
            "0             0.968974              1           1  \n",
            "1             0.023767              0           0  \n",
            "2             0.969215              1           1  \n",
            "3             0.968446              1           1  \n",
            "4             0.969226              1           1  \n",
            "..                 ...            ...         ...  \n",
            "450           0.969224              1           1  \n",
            "451           0.967963              1           1  \n",
            "452           0.964566              1           1  \n",
            "453           0.122488              0           0  \n",
            "454           0.967942              1           1  \n",
            "\n",
            "[455 rows x 6 columns]\n"
          ]
        }
      ]
    }
  ]
}