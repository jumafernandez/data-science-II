{
  "nbformat": 4,
  "nbformat_minor": 0,
  "metadata": {
    "colab": {
      "provenance": [],
      "authorship_tag": "ABX9TyP3Txo8vzOdca0o4amXOsDA",
      "include_colab_link": true
    },
    "kernelspec": {
      "name": "python3",
      "display_name": "Python 3"
    },
    "language_info": {
      "name": "python"
    }
  },
  "cells": [
    {
      "cell_type": "markdown",
      "metadata": {
        "id": "view-in-github",
        "colab_type": "text"
      },
      "source": [
        "<a href=\"https://colab.research.google.com/github/jumafernandez/data-science-II/blob/main/Stacking.ipynb\" target=\"_parent\"><img src=\"https://colab.research.google.com/assets/colab-badge.svg\" alt=\"Open In Colab\"/></a>"
      ]
    },
    {
      "cell_type": "markdown",
      "source": [
        "# Métodos de ensamble: Stacking\n",
        "\n",
        "En esta notebook implementamos un pequeño ejemplo de utilización de métodos de ensamble mediante la estrategia de _stacking_."
      ],
      "metadata": {
        "id": "aFKz4eT-e5LQ"
      }
    },
    {
      "cell_type": "markdown",
      "source": [
        "Cargamos las librerías necesarias:"
      ],
      "metadata": {
        "id": "6PtWVqDWfElA"
      }
    },
    {
      "cell_type": "code",
      "execution_count": 7,
      "metadata": {
        "id": "eFmlvUGleAtu"
      },
      "outputs": [],
      "source": [
        "from sklearn.ensemble import StackingClassifier\n",
        "from sklearn.linear_model import LogisticRegression\n",
        "from sklearn.tree import DecisionTreeClassifier\n",
        "from sklearn.svm import SVC\n",
        "from sklearn.neighbors import KNeighborsClassifier\n",
        "from sklearn.model_selection import train_test_split\n",
        "from sklearn.datasets import load_breast_cancer\n",
        "from sklearn.metrics import accuracy_score"
      ]
    },
    {
      "cell_type": "markdown",
      "source": [
        "Cargamos el dataset a utilizar, en nuestro caso el de cancer de mama y lo separamos en train y test:"
      ],
      "metadata": {
        "id": "dibdCtC_fGja"
      }
    },
    {
      "cell_type": "code",
      "source": [
        "X, y = load_breast_cancer(return_X_y=True)\n",
        "X_train, X_test, y_train, y_test = train_test_split(X, y, test_size=0.2, random_state=42)"
      ],
      "metadata": {
        "id": "lvAGxJa7eZKj"
      },
      "execution_count": 8,
      "outputs": []
    },
    {
      "cell_type": "markdown",
      "source": [
        "Entrenamos modelos base por separado y verificamos el accuracy:"
      ],
      "metadata": {
        "id": "Qkxfys4wfOG_"
      }
    },
    {
      "cell_type": "code",
      "source": [
        "# Modelos base\n",
        "clf1 = DecisionTreeClassifier(random_state=42)\n",
        "clf2 = SVC(probability=True, random_state=42)  # Es necesario probability=True para stacking\n",
        "clf3 = KNeighborsClassifier(n_neighbors=3)\n",
        "\n",
        "# Entrenamiento y evaluación individual de cada modelo\n",
        "clf1.fit(X_train, y_train)\n",
        "y_pred1 = clf1.predict(X_test)\n",
        "print(f\"Accuracy Decision Tree: {accuracy_score(y_test, y_pred1):.2f}\")\n",
        "\n",
        "clf2.fit(X_train, y_train)\n",
        "y_pred2 = clf2.predict(X_test)\n",
        "print(f\"Accuracy SVM: {accuracy_score(y_test, y_pred2):.2f}\")\n",
        "\n",
        "clf3.fit(X_train, y_train)\n",
        "y_pred3 = clf3.predict(X_test)\n",
        "print(f\"Accuracy KNN: {accuracy_score(y_test, y_pred3):.2f}\")"
      ],
      "metadata": {
        "colab": {
          "base_uri": "https://localhost:8080/"
        },
        "id": "2Q8CVU5lebIz",
        "outputId": "11367dff-67e7-426f-8172-8df505749fb8"
      },
      "execution_count": 9,
      "outputs": [
        {
          "output_type": "stream",
          "name": "stdout",
          "text": [
            "Accuracy Decision Tree: 0.95\n",
            "Accuracy SVM: 0.95\n",
            "Accuracy KNN: 0.93\n"
          ]
        }
      ]
    },
    {
      "cell_type": "markdown",
      "source": [
        "Ahora entrenamos el ensamble a través de la estrategia de stacking:"
      ],
      "metadata": {
        "id": "7zZauneTfz0e"
      }
    },
    {
      "cell_type": "code",
      "source": [
        "# Aplicación de Stacking\n",
        "estimators = [\n",
        "    ('decision_tree', DecisionTreeClassifier(random_state=42)),\n",
        "    ('svm', SVC(probability=True, random_state=42)),\n",
        "    ('knn', KNeighborsClassifier(n_neighbors=3))\n",
        "]\n",
        "\n",
        "# Meta-modelo: Regresión Logística\n",
        "stacking_clf = StackingClassifier(\n",
        "    estimators=estimators,\n",
        "    final_estimator=LogisticRegression(random_state=42)\n",
        ")\n",
        "\n",
        "# Entrenamiento del modelo Stacking\n",
        "stacking_clf.fit(X_train, y_train)\n",
        "y_pred_stack = stacking_clf.predict(X_test)\n",
        "\n",
        "# Evaluación del modelo Stacking\n",
        "print(f\"Accuracy Stacking: {accuracy_score(y_test, y_pred_stack):.2f}\")\n"
      ],
      "metadata": {
        "colab": {
          "base_uri": "https://localhost:8080/"
        },
        "id": "rw8EN1EEed2o",
        "outputId": "b874374c-091c-49f5-f5bb-f1a25489413f"
      },
      "execution_count": 11,
      "outputs": [
        {
          "output_type": "stream",
          "name": "stdout",
          "text": [
            "Accuracy Stacking: 0.97\n"
          ]
        }
      ]
    }
  ]
}