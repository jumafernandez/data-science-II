{
  "cells": [
    {
      "cell_type": "markdown",
      "metadata": {
        "id": "view-in-github",
        "colab_type": "text"
      },
      "source": [
        "<a href=\"https://colab.research.google.com/github/jumafernandez/data-science-II/blob/main/Copia_de_notebook_eda.ipynb\" target=\"_parent\"><img src=\"https://colab.research.google.com/assets/colab-badge.svg\" alt=\"Open In Colab\"/></a>"
      ]
    },
    {
      "cell_type": "code",
      "execution_count": null,
      "id": "222b006f",
      "metadata": {
        "id": "222b006f"
      },
      "outputs": [],
      "source": [
        "import pandas as pd\n",
        "from utils.config import DIRECTORIO\n",
        "from ydata_profiling import ProfileReport\n",
        "import sweetviz as sv"
      ]
    },
    {
      "cell_type": "code",
      "execution_count": null,
      "id": "cc0e7571",
      "metadata": {
        "id": "cc0e7571"
      },
      "outputs": [],
      "source": [
        "df = pd.read_excel('results/encuestas-procesadas.xlsx')"
      ]
    },
    {
      "cell_type": "code",
      "execution_count": null,
      "id": "b421c615",
      "metadata": {
        "id": "b421c615",
        "outputId": "5f798ad5-25a0-401f-b592-bab40f5dac6c"
      },
      "outputs": [
        {
          "data": {
            "text/plain": [
              "Index(['carrera', 'cohorte', 'documento', 'sede',\n",
              "       '1-¿Con quien vas a vivir durante el periodo de clases?',\n",
              "       '2-¿Por qué medio te trasladarás hasta la sede donde va a cursar durante el periodo de clases?',\n",
              "       '3-minutos',\n",
              "       '4-En la elección de la UNLu, ¿Cuánto influyó la cercanía de la sede donde vas a cursar?',\n",
              "       '5-es_gratuita', '5-me_la_recomendaron',\n",
              "       '5-no_se_toma_examen_de_ingreso', '5-otras_razones',\n",
              "       '5-por_el_prestigio_de_la_carrera', '5-por_la_cercanía',\n",
              "       '5-por_su_calidad_académica', '5-se_dicta_la_carrera_que_prefiero',\n",
              "       '6-medio_o_forma_por_el_cual_conoció_la_universidad',\n",
              "       '7-¿Cursas actualmente en un establecimiento educacional?',\n",
              "       '8-¿Qué nivel estás cursando?',\n",
              "       '9-¿Cuál fue el nivel mas alto que terminaste?',\n",
              "       '10-¿Terminaste o estás cursando tus estudios en un Colegio?',\n",
              "       '11-¿El Colegio es…', '12-número_del_colegio', '13-nombre_del_colegio',\n",
              "       '14-partido/depto', '14-país', '14-provincia',\n",
              "       '15-El Título que tenés o vas a tener es (Opciones)',\n",
              "       '16-Orientación del título de Nivel Medio o Polimodal',\n",
              "       '17-¿Pensás pedir alguna beca que te ayude a cubrir los gastos de estudios?',\n",
              "       '18-¿Tenés Obra Social y/o Mutual?', '19-¿Trabajás actualmente?',\n",
              "       '20-La relación que hay entre tu trabajo y la Carrera que elegiste cursar es:',\n",
              "       '21-En tu trabajo principal sos...',\n",
              "       '22-¿En cuál de las siguientes ramas de la actividad ubicarías a tu trabajo principal?',\n",
              "       '23-¿Tu trabajo principal es?', '24-¿Tu trabajo principal es?',\n",
              "       '25-En una semana normal de trabajo ¿cuántas horas trabajás?',\n",
              "       '26-Tus horarios son…',\n",
              "       '27-¿Qué momentos del día abarca tu jornada de trabajo?',\n",
              "       '28-¿Podés cambiar los horarios de trabajo?',\n",
              "       '29-¿Estás en este momento buscando trabajo? (Solo para quienes no trabajan)',\n",
              "       '30-abuelas/os', '30-amigas/os', '30-esposa/o_o_pareja',\n",
              "       '30-hermanas/os', '30-hijas/os', '30-madre', '30-otros_(especificar)',\n",
              "       '30-padre', '30-sobrinas/os', '30-vivo_sola/o', '31-especificar',\n",
              "       '32-medio_o_polimodal', '32-primario_o_egb',\n",
              "       '32-terciario_no_universitario', '32-universitarios',\n",
              "       '33-no_trabajan_pero_estan_buscando_trabajo',\n",
              "       '33-no_trabajan_porque_estudian', '33-no_trabajan_y_no_están_buscando',\n",
              "       '33-son_jubilados_o_pensionados',\n",
              "       '33-tienen_planes_trabajar_o_similares', '33-trabajan', '34-madre',\n",
              "       '34-padre', '35-¿Tenés conocimientos de otros idiomas?',\n",
              "       '36-especificar', '36-francés', '36-inglés', '36-otros', '36-portugués',\n",
              "       '37-especificar', '37-otros', '37-tu_casa', '37-tu_trabajo',\n",
              "       '38-especificar', '38-navegación_por_internet', '38-otros',\n",
              "       '38-planilla_de_cálculo', '38-procesador_de_texto'],\n",
              "      dtype='object')"
            ]
          },
          "execution_count": 3,
          "metadata": {},
          "output_type": "execute_result"
        }
      ],
      "source": [
        "df.columns"
      ]
    },
    {
      "cell_type": "code",
      "execution_count": null,
      "id": "5ed0f405",
      "metadata": {
        "id": "5ed0f405"
      },
      "outputs": [],
      "source": [
        "# Se castean las variables a categóricas que las tomen estas librerías\n",
        "# Luego habrá que analizar para dotar de calidad estas columnas\n",
        "\n",
        "df['1-¿Con quien vas a vivir durante el periodo de clases?'] = df['1-¿Con quien vas a vivir durante el periodo de clases?'].astype(\"category\")\n",
        "df['2-¿Por qué medio te trasladarás hasta la sede donde va a cursar durante el periodo de clases?'] = df['2-¿Por qué medio te trasladarás hasta la sede donde va a cursar durante el periodo de clases?'].astype(\"category\")\n",
        "df['6-medio_o_forma_por_el_cual_conoció_la_universidad'] = df['6-medio_o_forma_por_el_cual_conoció_la_universidad'].astype(\"category\")\n",
        "df['11-¿El Colegio es…'] = df['11-¿El Colegio es…'].astype(\"category\")\n",
        "df['12-número_del_colegio'] = df['12-número_del_colegio'].astype(\"category\")\n",
        "df['13-nombre_del_colegio'] = df['13-nombre_del_colegio'].astype(\"category\")\n",
        "df['14-partido/depto'] = df['14-partido/depto'].astype(\"category\")\n",
        "df['14-país'] = df['14-país'].astype(\"category\")\n",
        "df['14-provincia'] = df['14-provincia'].astype(\"category\")\n",
        "df['15-El Título que tenés o vas a tener es (Opciones)'] = df['15-El Título que tenés o vas a tener es (Opciones)'].astype(\"category\")\n",
        "df['16-Orientación del título de Nivel Medio o Polimodal'] = df['16-Orientación del título de Nivel Medio o Polimodal'].astype(\"category\")\n",
        "df['22-¿En cuál de las siguientes ramas de la actividad ubicarías a tu trabajo principal?'] = df['22-¿En cuál de las siguientes ramas de la actividad ubicarías a tu trabajo principal?'].astype(\"category\")\n",
        "df['30-otros_(especificar)'] = df['30-otros_(especificar)'].astype(\"category\")\n",
        "df['33-son_jubilados_o_pensionados'] = df['33-son_jubilados_o_pensionados'].astype(\"category\")\n",
        "df['34-padre'] = df['34-padre'].astype(\"category\")\n",
        "df['37-especificar'] = df['37-especificar'].astype(\"category\")"
      ]
    },
    {
      "cell_type": "code",
      "execution_count": null,
      "id": "274efc1f",
      "metadata": {
        "id": "274efc1f",
        "outputId": "544ff98c-5f94-4569-d524-549fca80192c",
        "colab": {
          "referenced_widgets": [
            "db749528466f421d8b3288b8fabbc39b",
            "f18e6428e6984861b512420fae7bccf8",
            "52496bdbf91d4445946ebd7607c0a7fd",
            "d25f7e21d67b4ab98a4ffed1df3446b5"
          ]
        }
      },
      "outputs": [
        {
          "data": {
            "application/vnd.jupyter.widget-view+json": {
              "model_id": "db749528466f421d8b3288b8fabbc39b",
              "version_major": 2,
              "version_minor": 0
            },
            "text/plain": [
              "Summarize dataset:   0%|          | 0/5 [00:00<?, ?it/s]"
            ]
          },
          "metadata": {},
          "output_type": "display_data"
        },
        {
          "data": {
            "application/vnd.jupyter.widget-view+json": {
              "model_id": "f18e6428e6984861b512420fae7bccf8",
              "version_major": 2,
              "version_minor": 0
            },
            "text/plain": [
              "Generate report structure:   0%|          | 0/1 [00:00<?, ?it/s]"
            ]
          },
          "metadata": {},
          "output_type": "display_data"
        },
        {
          "data": {
            "application/vnd.jupyter.widget-view+json": {
              "model_id": "52496bdbf91d4445946ebd7607c0a7fd",
              "version_major": 2,
              "version_minor": 0
            },
            "text/plain": [
              "Render HTML:   0%|          | 0/1 [00:00<?, ?it/s]"
            ]
          },
          "metadata": {},
          "output_type": "display_data"
        },
        {
          "data": {
            "application/vnd.jupyter.widget-view+json": {
              "model_id": "d25f7e21d67b4ab98a4ffed1df3446b5",
              "version_major": 2,
              "version_minor": 0
            },
            "text/plain": [
              "Export report to file:   0%|          | 0/1 [00:00<?, ?it/s]"
            ]
          },
          "metadata": {},
          "output_type": "display_data"
        }
      ],
      "source": [
        "# Data profiler de ydata_profiling\n",
        "profile = ProfileReport(df, title=\"Reporte EDA de Encuestas UNLu de aspirantes 2013-2023\")\n",
        "profile.to_file(\"results/reporte-eda-1.html\")  # Genera un informe HTML"
      ]
    },
    {
      "cell_type": "code",
      "execution_count": null,
      "id": "30b1f663",
      "metadata": {
        "id": "30b1f663",
        "outputId": "e5f6a91e-327c-4ffd-a8b1-9d32948eac82",
        "colab": {
          "referenced_widgets": [
            "32a5bcc0c1264b7ba320fe3cf288247f"
          ]
        }
      },
      "outputs": [
        {
          "data": {
            "application/vnd.jupyter.widget-view+json": {
              "model_id": "32a5bcc0c1264b7ba320fe3cf288247f",
              "version_major": 2,
              "version_minor": 0
            },
            "text/plain": [
              "                                             |          | [  0%]   00:00 -> (? left)"
            ]
          },
          "metadata": {},
          "output_type": "display_data"
        },
        {
          "name": "stderr",
          "output_type": "stream",
          "text": [
            "C:\\Users\\jumaf\\anaconda3\\Lib\\site-packages\\sweetviz\\graph.py:33: UserWarning: Glyph 9 (\t) missing from current font.\n",
            "  figure.savefig(as_raw_bytes, format='png', transparent=True)\n",
            "C:\\Users\\jumaf\\anaconda3\\Lib\\site-packages\\sweetviz\\graph.py:33: UserWarning: Glyph 9 (\t) missing from current font.\n",
            "  figure.savefig(as_raw_bytes, format='png', transparent=True)\n",
            "C:\\Users\\jumaf\\anaconda3\\Lib\\site-packages\\sweetviz\\graph.py:33: UserWarning: Glyph 9 (\t) missing from current font.\n",
            "  figure.savefig(as_raw_bytes, format='png', transparent=True)\n",
            "C:\\Users\\jumaf\\anaconda3\\Lib\\site-packages\\sweetviz\\graph.py:33: UserWarning: Glyph 9 (\t) missing from current font.\n",
            "  figure.savefig(as_raw_bytes, format='png', transparent=True)\n"
          ]
        },
        {
          "name": "stdout",
          "output_type": "stream",
          "text": [
            "Report results/reporte-eda-2.html was generated! NOTEBOOK/COLAB USERS: the web browser MAY not pop up, regardless, the report IS saved in your notebook/colab files.\n"
          ]
        }
      ],
      "source": [
        "# Data profiler de sweetviz\n",
        "report = sv.analyze(df)  # df es tu DataFrame\n",
        "report.show_html(\"results/reporte-eda-2.html\")"
      ]
    }
  ],
  "metadata": {
    "kernelspec": {
      "display_name": "Python 3 (Spyder)",
      "language": "python3",
      "name": "python3"
    },
    "language_info": {
      "codemirror_mode": {
        "name": "ipython",
        "version": 3
      },
      "file_extension": ".py",
      "mimetype": "text/x-python",
      "name": "python",
      "nbconvert_exporter": "python",
      "pygments_lexer": "ipython3",
      "version": "3.11.8"
    },
    "colab": {
      "provenance": [],
      "include_colab_link": true
    }
  },
  "nbformat": 4,
  "nbformat_minor": 5
}